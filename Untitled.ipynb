{
 "cells": [
  {
   "cell_type": "markdown",
   "id": "103ca821-fe61-411d-911b-850ce5844c35",
   "metadata": {},
   "source": [
    "Q1) Discuss string slicing and provide examples ."
   ]
  },
  {
   "cell_type": "markdown",
   "id": "7e6fe4ab-7695-436b-8e56-1cea88960054",
   "metadata": {},
   "source": [
    "String Slicing: Extracting Substrings\n",
    "String slicing is a powerful technique in Python that allows you to extract specific portions of a string. It's like taking a knife to a rope and cutting out a specific section\n",
    "* Basic Syntax\n",
    "The general syntax for string slicing is:\n",
    "* start: The index of the first character to include (inclusive).\n",
    "* end: The index of the first character to exclude (exclusive).\n",
    "* step: The number of characters to skip between each character (default is 1).\n",
    "Examples"
   ]
  },
  {
   "cell_type": "code",
   "execution_count": 1,
   "id": "217e292a-9fa0-4dd2-8a14-ffdd92101f4a",
   "metadata": {},
   "outputs": [],
   "source": [
    "my_string = \"Hello, World!\""
   ]
  },
  {
   "cell_type": "markdown",
   "id": "3d9935fb-d711-45ae-8baa-40e97321c5c9",
   "metadata": {},
   "source": [
    "Simple Slicing\n",
    "* Extracting a substring"
   ]
  },
  {
   "cell_type": "code",
   "execution_count": 2,
   "id": "28db82e1-c7ee-46a9-9492-14b329351938",
   "metadata": {},
   "outputs": [
    {
     "data": {
      "text/plain": [
       "'Hello'"
      ]
     },
     "execution_count": 2,
     "metadata": {},
     "output_type": "execute_result"
    }
   ],
   "source": [
    "my_string[0:5]"
   ]
  },
  {
   "cell_type": "markdown",
   "id": "d3a6fbb4-6e6f-4eb7-a523-6132a00e8b77",
   "metadata": {},
   "source": [
    "* Extracting from a specific index to the end:"
   ]
  },
  {
   "cell_type": "code",
   "execution_count": 3,
   "id": "f8151b0e-d908-4dfc-baca-81c92df51cd0",
   "metadata": {},
   "outputs": [
    {
     "data": {
      "text/plain": [
       "'World!'"
      ]
     },
     "execution_count": 3,
     "metadata": {},
     "output_type": "execute_result"
    }
   ],
   "source": [
    "my_string[7:]"
   ]
  },
  {
   "cell_type": "markdown",
   "id": "1182133e-6764-41d2-a764-bd4fe523a236",
   "metadata": {},
   "source": [
    "Extracting from the beginning to a specific index:"
   ]
  },
  {
   "cell_type": "code",
   "execution_count": 4,
   "id": "dd36befb-a99a-440e-a6cc-6ed19b53fbf4",
   "metadata": {},
   "outputs": [
    {
     "data": {
      "text/plain": [
       "'Hello'"
      ]
     },
     "execution_count": 4,
     "metadata": {},
     "output_type": "execute_result"
    }
   ],
   "source": [
    "my_string[:5]  "
   ]
  },
  {
   "cell_type": "markdown",
   "id": "e636a12b-2ba1-48f4-8216-1e539a6e1ea9",
   "metadata": {},
   "source": [
    "> Slicing with Step\n",
    "\n",
    " Extracting every other character:"
   ]
  },
  {
   "cell_type": "code",
   "execution_count": 5,
   "id": "4ced2b7a-e717-4bf3-af4b-df7cf46a9b51",
   "metadata": {},
   "outputs": [
    {
     "data": {
      "text/plain": [
       "'Hlo ol!'"
      ]
     },
     "execution_count": 5,
     "metadata": {},
     "output_type": "execute_result"
    }
   ],
   "source": [
    "my_string[::2]  "
   ]
  },
  {
   "cell_type": "markdown",
   "id": "367902a2-c653-4c85-afed-adb023a0d3f4",
   "metadata": {},
   "source": [
    "* Reversing the string:"
   ]
  },
  {
   "cell_type": "code",
   "execution_count": 6,
   "id": "e32c2461-a814-4846-960c-2c1121fce7ce",
   "metadata": {},
   "outputs": [
    {
     "data": {
      "text/plain": [
       "'!dlroW ,olleH'"
      ]
     },
     "execution_count": 6,
     "metadata": {},
     "output_type": "execute_result"
    }
   ],
   "source": [
    "my_string[::-1]"
   ]
  },
  {
   "cell_type": "markdown",
   "id": "4ec16909-952e-4250-95ef-b24839f82832",
   "metadata": {},
   "source": [
    "* Negative Indices"
   ]
  },
  {
   "cell_type": "code",
   "execution_count": 8,
   "id": "dcbd516d-fda1-4482-b385-bc98f079ace9",
   "metadata": {},
   "outputs": [
    {
     "data": {
      "text/plain": [
       "'World'"
      ]
     },
     "execution_count": 8,
     "metadata": {},
     "output_type": "execute_result"
    }
   ],
   "source": [
    "my_string[-6:-1]"
   ]
  },
  {
   "cell_type": "markdown",
   "id": "57198d47-c8bc-4be6-8650-76c8823881e6",
   "metadata": {},
   "source": [
    "Q2) Explain the key features of lists in python ."
   ]
  },
  {
   "cell_type": "markdown",
   "id": "71b03759-b891-4bf8-ba28-bc1748ffccf4",
   "metadata": {},
   "source": [
    "Key Features\n",
    "1.Ordered: Elements in a list have a specific order, and their position can be accessed using an index.\n",
    "\n",
    "2.Mutable: You can change the contents of a list after it's created by adding, removing, or modifying elements.\n",
    "\n",
    "3.Heterogeneous: Lists can hold items of different data types (integers, floats, strings, etc.) within the same list.\n",
    "\n",
    "3.Dynamic: Lists can grow or shrink in size as needed.\n",
    "\n",
    "4.Allow Duplicates: Lists can contain duplicate elements."
   ]
  },
  {
   "cell_type": "code",
   "execution_count": 1,
   "id": "3f36f8fb-205d-423e-b5d4-f6762aaf098a",
   "metadata": {},
   "outputs": [],
   "source": [
    "my_list = [1, 2, 3, \"hello\", True, 3.14]"
   ]
  },
  {
   "cell_type": "code",
   "execution_count": 2,
   "id": "99127af4-3e50-451e-8653-7d55c04c02c1",
   "metadata": {},
   "outputs": [
    {
     "name": "stdout",
     "output_type": "stream",
     "text": [
      "1\n",
      "3.14\n"
     ]
    }
   ],
   "source": [
    "# Accessing elements\n",
    "print(my_list[0]) \n",
    "print(my_list[-1])  "
   ]
  },
  {
   "cell_type": "code",
   "execution_count": 3,
   "id": "b6d0a0c0-cab0-470b-a07c-004ecb52178a",
   "metadata": {},
   "outputs": [
    {
     "name": "stdout",
     "output_type": "stream",
     "text": [
      "[1, 2, 'world', 'hello', True, 3.14]\n"
     ]
    }
   ],
   "source": [
    "# Modifying elements\n",
    "my_list[2] = \"world\"\n",
    "print(my_list) "
   ]
  },
  {
   "cell_type": "code",
   "execution_count": 4,
   "id": "858fb308-e230-4896-83ba-be796087fff2",
   "metadata": {},
   "outputs": [
    {
     "name": "stdout",
     "output_type": "stream",
     "text": [
      "[1, 2, 'world', 'hello', True, 3.14, 4]\n"
     ]
    }
   ],
   "source": [
    "# Adding elements\n",
    "my_list.append(4)\n",
    "print(my_list)  "
   ]
  },
  {
   "cell_type": "code",
   "execution_count": 5,
   "id": "4a924bd3-fdda-44ac-b928-d46ab25abbb3",
   "metadata": {},
   "outputs": [
    {
     "name": "stdout",
     "output_type": "stream",
     "text": [
      "[1, 2, 'world', True, 3.14, 4]\n"
     ]
    }
   ],
   "source": [
    "# Removing elements\n",
    "del my_list[3]\n",
    "print(my_list)"
   ]
  },
  {
   "cell_type": "code",
   "execution_count": 6,
   "id": "abb171d2-d81f-4c89-85a5-8522e3b5289e",
   "metadata": {},
   "outputs": [
    {
     "name": "stdout",
     "output_type": "stream",
     "text": [
      "[2, 'world', True]\n"
     ]
    }
   ],
   "source": [
    "# Slicing\n",
    "sublist = my_list[1:4]\n",
    "print(sublist) "
   ]
  },
  {
   "cell_type": "code",
   "execution_count": 7,
   "id": "c477ae5c-a24d-4006-89cf-133a01da3f16",
   "metadata": {},
   "outputs": [
    {
     "name": "stdout",
     "output_type": "stream",
     "text": [
      "False\n",
      "True\n"
     ]
    }
   ],
   "source": [
    "# Checking for membership\n",
    "print(3 in my_list)  \n",
    "print(\"world\" in my_list) "
   ]
  },
  {
   "cell_type": "code",
   "execution_count": 8,
   "id": "f9f5a2ec-7ae7-4d6e-9a9d-ad2f9fc1de61",
   "metadata": {},
   "outputs": [
    {
     "name": "stdout",
     "output_type": "stream",
     "text": [
      "6\n"
     ]
    }
   ],
   "source": [
    "# Finding length\n",
    "print(len(my_list))"
   ]
  },
  {
   "cell_type": "code",
   "execution_count": 9,
   "id": "0c427b73-431d-43f9-91d8-5ee812d1fb66",
   "metadata": {},
   "outputs": [
    {
     "name": "stdout",
     "output_type": "stream",
     "text": [
      "[1, 2, 3, 4]\n"
     ]
    }
   ],
   "source": [
    "# Concatenating lists\n",
    "list1 = [1, 2]\n",
    "list2 = [3, 4]\n",
    "combined_list = list1 + list2\n",
    "print(combined_list)"
   ]
  },
  {
   "cell_type": "markdown",
   "id": "07526a56-8327-4f66-a79e-1bf578ec2dff",
   "metadata": {},
   "source": [
    "Q3) Describe how to access , modify , and delete elements in a list with examples"
   ]
  },
  {
   "cell_type": "markdown",
   "id": "47febd67-8cc0-4cd8-be5b-4680b216e503",
   "metadata": {},
   "source": [
    "Accessing Elements\n",
    "\n",
    "Python uses zero-based indexing to access elements in a list. This means the first element has an index of 0, the second has an index of 1, and so on."
   ]
  },
  {
   "cell_type": "code",
   "execution_count": 15,
   "id": "e82ab092-8b92-475a-93f5-eef19487dfa1",
   "metadata": {},
   "outputs": [],
   "source": [
    "my_list = [10, 20, 30, 40, 50]"
   ]
  },
  {
   "cell_type": "code",
   "execution_count": 17,
   "id": "943723ab-c65a-43c0-96c4-1e1d2af1e074",
   "metadata": {},
   "outputs": [
    {
     "data": {
      "text/plain": [
       "10"
      ]
     },
     "execution_count": 17,
     "metadata": {},
     "output_type": "execute_result"
    }
   ],
   "source": [
    "# Accessing elements\n",
    "my_list[0] "
   ]
  },
  {
   "cell_type": "code",
   "execution_count": 18,
   "id": "9a0b7bd5-0303-4e52-85ce-3549ba0c0845",
   "metadata": {},
   "outputs": [
    {
     "data": {
      "text/plain": [
       "30"
      ]
     },
     "execution_count": 18,
     "metadata": {},
     "output_type": "execute_result"
    }
   ],
   "source": [
    "my_list[2]"
   ]
  },
  {
   "cell_type": "code",
   "execution_count": 19,
   "id": "50a6be54-54da-4c8b-a8ac-4247f08038f4",
   "metadata": {},
   "outputs": [
    {
     "data": {
      "text/plain": [
       "50"
      ]
     },
     "execution_count": 19,
     "metadata": {},
     "output_type": "execute_result"
    }
   ],
   "source": [
    "my_list[-1] "
   ]
  },
  {
   "cell_type": "markdown",
   "id": "b5b545a9-a1f0-4146-90bf-e000174fa521",
   "metadata": {},
   "source": [
    "Modifying Elements\n",
    "\n",
    "You can change the value of an element by assigning a new value to its index."
   ]
  },
  {
   "cell_type": "code",
   "execution_count": 21,
   "id": "0aa525bf-956a-4fb7-a0eb-03222c185e43",
   "metadata": {},
   "outputs": [
    {
     "name": "stdout",
     "output_type": "stream",
     "text": [
      "[10, 20, 35, 40, 50]\n"
     ]
    }
   ],
   "source": [
    "# Modifying an element\n",
    "my_list[2] = 35\n",
    "print(my_list)"
   ]
  },
  {
   "cell_type": "markdown",
   "id": "4168019e-3f95-4a89-9620-c8d5bc2002c5",
   "metadata": {},
   "source": [
    "Deleting Elements\n",
    "\n",
    "There are several ways to delete elements from a list:"
   ]
  },
  {
   "cell_type": "code",
   "execution_count": 22,
   "id": "9aa37138-3df9-4019-8f46-5573c0b64e5d",
   "metadata": {},
   "outputs": [
    {
     "name": "stdout",
     "output_type": "stream",
     "text": [
      "[10, 20, 40, 50]\n"
     ]
    }
   ],
   "source": [
    "# Deleting an element\n",
    "del my_list[2]\n",
    "print(my_list)"
   ]
  },
  {
   "cell_type": "markdown",
   "id": "1b1cc0e1-9971-4f0f-931d-c157cbdf7c08",
   "metadata": {},
   "source": [
    "Using the remove() method:\n",
    "    \n",
    "Removes the first occurrence of a specified value."
   ]
  },
  {
   "cell_type": "code",
   "execution_count": 24,
   "id": "c1e25af8-4a8e-42fe-942b-def172249f7b",
   "metadata": {},
   "outputs": [
    {
     "name": "stdout",
     "output_type": "stream",
     "text": [
      "[10, 20, 50]\n"
     ]
    }
   ],
   "source": [
    "# Removing a value\n",
    "my_list.remove(40)\n",
    "print(my_list)"
   ]
  },
  {
   "cell_type": "markdown",
   "id": "6e15a47d-b4d8-4d52-b251-da92775ec822",
   "metadata": {},
   "source": [
    "Using the pop() method:\n",
    "    \n",
    "Removes and returns the element at a specific index."
   ]
  },
  {
   "cell_type": "code",
   "execution_count": 25,
   "id": "0bbcd432-5cb6-4458-ae6c-3f62377717d8",
   "metadata": {},
   "outputs": [
    {
     "name": "stdout",
     "output_type": "stream",
     "text": [
      "[10, 20]\n",
      "50\n"
     ]
    }
   ],
   "source": [
    "removed_element = my_list.pop(2)\n",
    "print(my_list) \n",
    "print(removed_element)"
   ]
  },
  {
   "cell_type": "markdown",
   "id": "e2716d91-280f-4620-b7c2-f9de2d2c0a17",
   "metadata": {},
   "source": [
    "Tuples vs. Lists in Python\n",
    "\n",
    "Tuples and lists are both sequence data types in Python used to store collections of items. However, they have distinct characteristics that make them suitable for different use cases."
   ]
  },
  {
   "cell_type": "markdown",
   "id": "0a591c7b-07db-4219-851b-6b35304850e8",
   "metadata": {},
   "source": [
    "Similarities\n",
    "\n",
    "* Both tuples and lists can store heterogeneous data types (integers, floats, strings, etc.).\n",
    "* Both support indexing and slicing to access elements.   \n",
    "* Both can be used as keys in dictionaries (although tuples are more commonly used)."
   ]
  },
  {
   "cell_type": "markdown",
   "id": "d01cafeb-b9dd-4b9a-818b-1d6df6a0c297",
   "metadata": {},
   "source": [
    "Lists"
   ]
  },
  {
   "cell_type": "markdown",
   "id": "59c9cd1b-a2e9-446b-8b7e-a56c5802a122",
   "metadata": {},
   "source": [
    "Mutability-      Mutable (can be changed)\n",
    "\n",
    "Syntax   -   \t[ ]\n",
    "\n",
    "Performance \t-Generally slower\n",
    "\n",
    "Use Cases\t   - Dynamic data that needs        frequent modifications"
   ]
  },
  {
   "cell_type": "code",
   "execution_count": 17,
   "id": "97c3f977-8236-4ff8-a02f-1f7f029118fe",
   "metadata": {},
   "outputs": [],
   "source": [
    "# Lists\n",
    "my_list = [1, 2, 3, \"hello\", True]"
   ]
  },
  {
   "cell_type": "code",
   "execution_count": 18,
   "id": "6e5c9d50-e87b-4d85-a85f-ac6c117f16ae",
   "metadata": {},
   "outputs": [
    {
     "name": "stdout",
     "output_type": "stream",
     "text": [
      "[1, 2, 3, 'hello', True, 4]\n"
     ]
    }
   ],
   "source": [
    "# Add an element\n",
    "my_list.append(4)\n",
    "print(my_list)"
   ]
  },
  {
   "cell_type": "code",
   "execution_count": 19,
   "id": "53d7d857-2578-4bf7-aed2-e818e941d4d0",
   "metadata": {},
   "outputs": [
    {
     "name": "stdout",
     "output_type": "stream",
     "text": [
      "[1, 10, 3, 'hello', True, 4]\n"
     ]
    }
   ],
   "source": [
    "# modify an element\n",
    "my_list[1]=10\n",
    "print(my_list)"
   ]
  },
  {
   "cell_type": "code",
   "execution_count": 20,
   "id": "e5775d23-5f79-42a6-a522-69c738b80095",
   "metadata": {},
   "outputs": [
    {
     "name": "stdout",
     "output_type": "stream",
     "text": [
      "[1, 10, 3, True, 4]\n"
     ]
    }
   ],
   "source": [
    "# delete an element\n",
    "del my_list[3]\n",
    "print(my_list)"
   ]
  },
  {
   "cell_type": "markdown",
   "id": "85bb7747-02df-4a00-89d2-5fd905e3340b",
   "metadata": {},
   "source": [
    "Tuples"
   ]
  },
  {
   "cell_type": "markdown",
   "id": "b320ea5e-5b8a-4e4d-ac9b-f7f215b5432f",
   "metadata": {},
   "source": [
    "Mutability-Immutable (cannot be changed)\n",
    "\n",
    "Syntax- ( )\n",
    "\n",
    "Performance-Generally faster\n",
    "\n",
    "Use Cases-Static data that doesn't need to be changed, or for creating keys in dictionaries"
   ]
  },
  {
   "cell_type": "code",
   "execution_count": 12,
   "id": "fcb65921-09a4-4757-b72a-bbe666dd0ae8",
   "metadata": {},
   "outputs": [],
   "source": [
    "# Tuples\n",
    "my_tuple = (1, 2, 3, \"hello\", True)"
   ]
  },
  {
   "cell_type": "code",
   "execution_count": 13,
   "id": "3d7b00a7-6f1b-4895-ba38-6474a1afd60b",
   "metadata": {},
   "outputs": [
    {
     "ename": "AttributeError",
     "evalue": "'tuple' object has no attribute 'append'",
     "output_type": "error",
     "traceback": [
      "\u001b[0;31m---------------------------------------------------------------------------\u001b[0m",
      "\u001b[0;31mAttributeError\u001b[0m                            Traceback (most recent call last)",
      "Cell \u001b[0;32mIn[13], line 1\u001b[0m\n\u001b[0;32m----> 1\u001b[0m \u001b[43mmy_tuple\u001b[49m\u001b[38;5;241;43m.\u001b[39;49m\u001b[43mappend\u001b[49m(\u001b[38;5;241m4\u001b[39m)  \u001b[38;5;66;03m# This will raise an error\u001b[39;00m\n",
      "\u001b[0;31mAttributeError\u001b[0m: 'tuple' object has no attribute 'append'"
     ]
    }
   ],
   "source": [
    "my_tuple.append(4)  # This will raise an error"
   ]
  },
  {
   "cell_type": "code",
   "execution_count": 14,
   "id": "b8566627-56a1-4e16-a157-bc0e575525c3",
   "metadata": {},
   "outputs": [
    {
     "ename": "TypeError",
     "evalue": "'tuple' object does not support item assignment",
     "output_type": "error",
     "traceback": [
      "\u001b[0;31m---------------------------------------------------------------------------\u001b[0m",
      "\u001b[0;31mTypeError\u001b[0m                                 Traceback (most recent call last)",
      "Cell \u001b[0;32mIn[14], line 1\u001b[0m\n\u001b[0;32m----> 1\u001b[0m \u001b[43mmy_tuple\u001b[49m\u001b[43m[\u001b[49m\u001b[38;5;241;43m0\u001b[39;49m\u001b[43m]\u001b[49m \u001b[38;5;241m=\u001b[39m \u001b[38;5;241m10\u001b[39m  \u001b[38;5;66;03m# This will also raise an error\u001b[39;00m\n",
      "\u001b[0;31mTypeError\u001b[0m: 'tuple' object does not support item assignment"
     ]
    }
   ],
   "source": [
    "my_tuple[0] = 10  # This will also raise an error"
   ]
  },
  {
   "cell_type": "markdown",
   "id": "5edc4973-cc91-4c0a-8a72-47c9a6cdcacd",
   "metadata": {},
   "source": [
    "When to Use Which\n",
    "\n",
    "* Lists: When you need to modify the data frequently, the order of elements is important, or you need to store a collection of items that can grow or shrink.   \n",
    "* Tuples: When you want to create a read-only collection of items, you need to ensure data integrity, or you want to use the tuple as a key in a dictionary.\n",
    "\n",
    "In summary, lists offer flexibility and mutability, while tuples provide immutability and performance advantages. The choice between the two depends on the specific requirements of your application."
   ]
  },
  {
   "cell_type": "markdown",
   "id": "35d3da1c-756f-4ce9-b4b8-f7a4feac8651",
   "metadata": {},
   "source": [
    "Q5) Describe the key features of sets and provide examples of their use ."
   ]
  },
  {
   "cell_type": "markdown",
   "id": "40c2c22f-3ddb-429b-b8f2-56e4f7a4c400",
   "metadata": {},
   "source": [
    "Sets in Python\n",
    "\n",
    "A set is an unordered collection of unique elements. This means that:\n",
    "\n",
    "* Unordered: Elements in a set don't have a specific order.\n",
    "* Unique: Duplicate elements are not allowed.\n",
    "\n",
    "Sets are defined using curly braces {}.\n",
    "\n",
    "> Key Features\n",
    "\n",
    "* Unordered: The elements in a set do not have a specific order.\n",
    "* Unindexed: You cannot access elements by their index.\n",
    "* Mutable: You can add or remove elements from a set after it's created.\n",
    "* No duplicates: Sets cannot contain duplicate elements.\n",
    "\n",
    "Example"
   ]
  },
  {
   "cell_type": "code",
   "execution_count": 35,
   "id": "7f94ceb7-e1b2-432e-ac2a-6334cf6adae7",
   "metadata": {},
   "outputs": [],
   "source": [
    "my_set = {1, 2, 3, \"apple\", \"banana\"}"
   ]
  },
  {
   "cell_type": "markdown",
   "id": "26d6f13e-7fee-4960-882c-30b2fd786068",
   "metadata": {},
   "source": [
    "> Common Operations \n",
    "\n",
    "* Adding elements:"
   ]
  },
  {
   "cell_type": "code",
   "execution_count": 37,
   "id": "ba9b73a7-331a-43be-93bc-3902a3f3d527",
   "metadata": {},
   "outputs": [
    {
     "name": "stdout",
     "output_type": "stream",
     "text": [
      "{1, 2, 3, 4, 'banana', 'apple'}\n"
     ]
    }
   ],
   "source": [
    "my_set.add(4)\n",
    "print(my_set)"
   ]
  },
  {
   "cell_type": "markdown",
   "id": "46afc6e6-07d2-4017-b6da-5074d73d4722",
   "metadata": {},
   "source": [
    "* Removing elements:"
   ]
  },
  {
   "cell_type": "code",
   "execution_count": 38,
   "id": "992ea14b-83ee-43e8-a7cd-3ecaca2da301",
   "metadata": {},
   "outputs": [
    {
     "name": "stdout",
     "output_type": "stream",
     "text": [
      "{1, 2, 3, 4, 'banana'}\n"
     ]
    }
   ],
   "source": [
    "my_set.remove(\"apple\")\n",
    "print(my_set)"
   ]
  },
  {
   "cell_type": "markdown",
   "id": "238ea626-b20a-4135-8009-9fd7ac8dccf9",
   "metadata": {},
   "source": [
    "* Finding union:"
   ]
  },
  {
   "cell_type": "code",
   "execution_count": 39,
   "id": "3c5b8a14-f446-44ec-9504-06e80a5a898a",
   "metadata": {},
   "outputs": [
    {
     "name": "stdout",
     "output_type": "stream",
     "text": [
      "{1, 2, 3, 4, 5}\n"
     ]
    }
   ],
   "source": [
    "set1 = {1, 2, 3}\n",
    "set2 = {3, 4, 5}\n",
    "union_set = set1 | set2\n",
    "print(union_set)"
   ]
  },
  {
   "cell_type": "markdown",
   "id": "1c68c4e4-3ffb-419c-8be5-eb7ba9c209c1",
   "metadata": {},
   "source": [
    "* Finding intersection:"
   ]
  },
  {
   "cell_type": "code",
   "execution_count": 40,
   "id": "15ad9175-cb61-4380-87ae-80bed8f0af65",
   "metadata": {},
   "outputs": [
    {
     "name": "stdout",
     "output_type": "stream",
     "text": [
      "{3}\n"
     ]
    }
   ],
   "source": [
    "set1 = {1, 2, 3}\n",
    "set2 = {3, 4, 5}\n",
    "intersection_set = set1 & set2\n",
    "print(intersection_set)"
   ]
  },
  {
   "cell_type": "markdown",
   "id": "75cfd448-1921-4f39-b4e4-4180d0c9f268",
   "metadata": {},
   "source": [
    "* Finding difference:"
   ]
  },
  {
   "cell_type": "code",
   "execution_count": 41,
   "id": "9038eb56-16f3-437d-a99a-a80b357b6b1c",
   "metadata": {},
   "outputs": [
    {
     "name": "stdout",
     "output_type": "stream",
     "text": [
      "{1, 3}\n"
     ]
    }
   ],
   "source": [
    "set1 = {1, 2, 3}\n",
    "set2 = {2, 4, 5}\n",
    "difference_set = set1 - set2\n",
    "print(difference_set)"
   ]
  },
  {
   "cell_type": "markdown",
   "id": "e4d18f9f-bd7d-4cba-8618-25d36fbc7121",
   "metadata": {},
   "source": [
    "Use Cases\n",
    "\n",
    "*Removing duplicates from a list\n",
    "\n",
    "*Membership testing (checking if an element is in a set)\n",
    "\n",
    "*Performing set operations like union, intersection, and difference\n",
    "\n",
    "*Representing sets in mathematical problems\n",
    "\n",
    "> Sets are particularly useful when you need to work with unique elements and perform set operations efficiently."
   ]
  },
  {
   "cell_type": "markdown",
   "id": "cbae8042-4409-4699-aa8e-97dd1d7567bf",
   "metadata": {},
   "source": [
    " Q6) Discuss the use cases of tuples and sets in Python programming ."
   ]
  },
  {
   "cell_type": "markdown",
   "id": "a42c055c-4cf5-4db6-8cc6-d0d191ab961c",
   "metadata": {},
   "source": [
    "Use Cases of Tuples and Sets in Python\n",
    "\n",
    "Tuples\n",
    "Tuples are immutable sequences, meaning their elements cannot be changed once created. This makes them ideal for representing data that should not be modified.\n",
    "\n",
    ">Use Cases:\n",
    "\n",
    "-Representing fixed data:\n",
    "\n",
    "* Geographic coordinates (latitude, longitude)\n",
    "\n",
    "* Color values (RGB, CMYK)\n",
    "\n",
    "* Database records"
   ]
  },
  {
   "cell_type": "code",
   "execution_count": null,
   "id": "036cb7b1-2641-4b73-8a7a-b74f43fad7b0",
   "metadata": {},
   "outputs": [],
   "source": [
    "coordinates = (40.7128, -74.0060)\n",
    "color = (255, 0, 0) \n",
    "# Tuples are immutable"
   ]
  },
  {
   "cell_type": "markdown",
   "id": "25920c7b-850f-4594-ada9-4f4e1ee6fa7d",
   "metadata": {},
   "source": [
    "-Returning multiple values from functions:"
   ]
  },
  {
   "cell_type": "code",
   "execution_count": null,
   "id": "b588ddd7-2070-4c17-92e2-c231051b3632",
   "metadata": {},
   "outputs": [],
   "source": [
    "def get_user_info():\n",
    "    name = \"Alice\"\n",
    "    age = 30\n",
    "    return name, age\n"
   ]
  },
  {
   "cell_type": "markdown",
   "id": "b567f49a-b490-49fc-9c37-8be6cbfdb775",
   "metadata": {},
   "source": [
    "-Creating keys for dictionaries: Since tuples are immutable, they can be used as dictionary keys."
   ]
  },
  {
   "cell_type": "code",
   "execution_count": 43,
   "id": "4560a4e6-bb79-4fd9-ab88-b1516bdfec36",
   "metadata": {},
   "outputs": [],
   "source": [
    "user_data = {\n",
    "    ('Alice', 30): {'city': 'New York'},\n",
    "    ('Bob', 25): {'city': 'Los Angeles'}}"
   ]
  },
  {
   "cell_type": "markdown",
   "id": "60485728-d90d-4a1f-81ff-2e137b7f8a31",
   "metadata": {},
   "source": [
    "Sets\n",
    "\n",
    "Sets are unordered collections of unique elements. They are useful for membership testing, removing duplicates, and performing mathematical set operations.\n",
    "\n",
    "Use Cases:\n",
    "\n",
    "-Removing duplicates:"
   ]
  },
  {
   "cell_type": "code",
   "execution_count": 44,
   "id": "ead0a6fe-ee06-44e2-84ab-315f550f669e",
   "metadata": {},
   "outputs": [
    {
     "name": "stdout",
     "output_type": "stream",
     "text": [
      "{1, 2, 3, 4}\n"
     ]
    }
   ],
   "source": [
    "numbers = [1, 2, 3, 2, 4, 1]\n",
    "unique_numbers = set(numbers)\n",
    "print(unique_numbers)  "
   ]
  },
  {
   "cell_type": "markdown",
   "id": "7a40d85d-33ec-4a54-94ee-a9cba60c6d06",
   "metadata": {},
   "source": [
    "-Membership testing:"
   ]
  },
  {
   "cell_type": "code",
   "execution_count": 45,
   "id": "d32392a3-c40b-4f11-8f26-6616739bc606",
   "metadata": {},
   "outputs": [
    {
     "name": "stdout",
     "output_type": "stream",
     "text": [
      "Apple is present\n"
     ]
    }
   ],
   "source": [
    "fruits = {\"apple\", \"banana\", \"orange\"}\n",
    "if \"apple\" in fruits:\n",
    "    print(\"Apple is present\")"
   ]
  },
  {
   "cell_type": "markdown",
   "id": "7a888628-544e-4c20-8017-fd177ce785db",
   "metadata": {},
   "source": [
    "* Set operations:\n",
    "\n",
    "Union: \"|\"\n",
    "\n",
    "Intersection: \"&\"\n",
    "\n",
    "Difference: \"-\"\n",
    "\n",
    "Symmetric difference: \"^\""
   ]
  },
  {
   "cell_type": "code",
   "execution_count": 47,
   "id": "9847480d-798f-4335-8d62-473f55dcc0b4",
   "metadata": {},
   "outputs": [],
   "source": [
    "set1 = {1, 2, 3}\n",
    "set2 = {2, 3, 4}"
   ]
  },
  {
   "cell_type": "code",
   "execution_count": 48,
   "id": "48ced6cf-78c0-4cb4-b7e7-3127d17eb062",
   "metadata": {},
   "outputs": [
    {
     "name": "stdout",
     "output_type": "stream",
     "text": [
      "{1, 2, 3, 4}\n"
     ]
    }
   ],
   "source": [
    "# UNION SET\n",
    "print(set1 | set2)"
   ]
  },
  {
   "cell_type": "code",
   "execution_count": 50,
   "id": "5271c10a-5d24-4bec-b8f7-85934566ae37",
   "metadata": {},
   "outputs": [
    {
     "name": "stdout",
     "output_type": "stream",
     "text": [
      "{2, 3}\n"
     ]
    }
   ],
   "source": [
    "#INTERSECTION SET\n",
    "print(set1 & set2)"
   ]
  },
  {
   "cell_type": "code",
   "execution_count": 49,
   "id": "f71723b3-a108-4eaf-9f8a-9dd0ae61faf2",
   "metadata": {},
   "outputs": [
    {
     "name": "stdout",
     "output_type": "stream",
     "text": [
      "{1}\n"
     ]
    }
   ],
   "source": [
    "#DIFFERENCE SET\n",
    "print(set1 - set2)"
   ]
  },
  {
   "cell_type": "code",
   "execution_count": 51,
   "id": "d47edd7c-d7ea-47b1-96d1-08f2ee80ba3e",
   "metadata": {},
   "outputs": [
    {
     "name": "stdout",
     "output_type": "stream",
     "text": [
      "{1, 4}\n"
     ]
    }
   ],
   "source": [
    "#SYMMETRIC DIFFERENCE\n",
    "print(set1 ^ set2)"
   ]
  },
  {
   "cell_type": "markdown",
   "id": "2706cd3a-7a46-46ed-b524-356cd9138657",
   "metadata": {},
   "source": [
    "Data cleaning:\n",
    "\n",
    "* Identifying unique values in a dataset\n",
    "* Finding common elements between different datasets\n",
    "\n",
    "In summary, tuples are best suited for immutable data structures, while sets are ideal for handling unique elements and performing set operations."
   ]
  },
  {
   "cell_type": "markdown",
   "id": "ff91acc6-8779-4b23-8d09-d542a1495050",
   "metadata": {},
   "source": [
    "Q7) Adding, Modifying, and Deleting Items in a Dictionary\n",
    "\n",
    "\n",
    ">Adding Items\n",
    "\n",
    "To add a new key-value pair to a dictionary, simply assign a value to a new key."
   ]
  },
  {
   "cell_type": "code",
   "execution_count": 1,
   "id": "52d0c74a-855f-49c0-9412-57746278fbdf",
   "metadata": {},
   "outputs": [
    {
     "name": "stdout",
     "output_type": "stream",
     "text": [
      "{'name': 'Alice', 'age': 30, 'city': 'New York'}\n"
     ]
    }
   ],
   "source": [
    "my_dict = {'name': 'Alice', 'age': 30}\n",
    "my_dict['city'] = 'New York'\n",
    "print(my_dict)"
   ]
  },
  {
   "cell_type": "markdown",
   "id": "010d32f9-fc4a-4d7c-99ae-df72629fd1b1",
   "metadata": {},
   "source": [
    ">Modifying Items\n",
    "\n",
    "To modify the value of an existing key, assign a new value to that key."
   ]
  },
  {
   "cell_type": "code",
   "execution_count": 2,
   "id": "7b67524f-2e24-48e0-920a-21a6e037b891",
   "metadata": {},
   "outputs": [
    {
     "name": "stdout",
     "output_type": "stream",
     "text": [
      "{'name': 'Alice', 'age': 31}\n"
     ]
    }
   ],
   "source": [
    "my_dict = {'name': 'Alice', 'age': 30}\n",
    "my_dict['age'] = 31 \n",
    "print(my_dict) "
   ]
  },
  {
   "cell_type": "markdown",
   "id": "1ed5b9b2-c256-455b-b3e8-a136743debc8",
   "metadata": {},
   "source": [
    "Deleting Items\n",
    "\n",
    "There are two primary ways to delete items from a dictionary:\n",
    "\n",
    "1. Using the del keyword:"
   ]
  },
  {
   "cell_type": "code",
   "execution_count": 3,
   "id": "688f579d-14f3-46cc-970d-d07a39d3ac73",
   "metadata": {},
   "outputs": [
    {
     "name": "stdout",
     "output_type": "stream",
     "text": [
      "{'name': 'Alice', 'age': 30}\n"
     ]
    }
   ],
   "source": [
    "my_dict = {'name': 'Alice', 'age': 30, 'city': 'New York'}\n",
    "del my_dict['city']\n",
    "print(my_dict)"
   ]
  },
  {
   "cell_type": "markdown",
   "id": "fa62726c-1ef9-48be-a0ec-186ba3909740",
   "metadata": {},
   "source": [
    "2. Using the pop( ) method:"
   ]
  },
  {
   "cell_type": "code",
   "execution_count": 4,
   "id": "12c39ea7-981b-4da6-826a-572e1afff9d8",
   "metadata": {},
   "outputs": [
    {
     "name": "stdout",
     "output_type": "stream",
     "text": [
      "{'name': 'Alice', 'city': 'New York'}\n",
      "30\n"
     ]
    }
   ],
   "source": [
    "my_dict = {'name': 'Alice', 'age': 30, 'city': 'New York'}\n",
    "removed_value = my_dict.pop('age')\n",
    "print(my_dict) \n",
    "print(removed_value) "
   ]
  },
  {
   "cell_type": "markdown",
   "id": "a60529b9-6ba1-4139-bee8-defd75c60d20",
   "metadata": {},
   "source": [
    "Note:\n",
    "\n",
    "* The pop() method returns the value associated with the removed key.\n",
    "\n",
    "* If the key doesn't exist, the pop() method raises a KeyError. You can provide a default value using the optional default argument to avoid this.\n",
    "\n",
    ">Additional Methods:\n",
    "\n",
    "* update(): Used to merge one dictionary with another.\n",
    "\n",
    "* clear(): Removes all items from a dictionary.\n",
    "\n",
    "By understanding these methods, you can effectively manipulate dictionaries in your Python programs."
   ]
  },
  {
   "cell_type": "markdown",
   "id": "d5e09128-7bac-4407-b43c-2697096b25b1",
   "metadata": {},
   "source": [
    "Q8) Discuss the importance of dictionary keys beings immutable and provide examples ."
   ]
  },
  {
   "cell_type": "markdown",
   "id": "f14ede3b-b0d2-4db5-a3c6-f898ed63fe6f",
   "metadata": {},
   "source": [
    ">Importance of Immutable Keys in Dictionaries\n",
    "\n",
    "In Python, dictionary keys must be immutable. This is a fundamental requirement for efficient dictionary operations."
   ]
  },
  {
   "cell_type": "markdown",
   "id": "3e0001d8-b9bf-417e-a2dd-1bcb59cbe5a8",
   "metadata": {},
   "source": [
    "* Why Immutable Keys?\n",
    "\n",
    "Hashing: Dictionaries use hashing for efficient lookups. Hashing involves converting keys into numerical values (hash codes) to quickly locate corresponding values. Immutable keys guarantee that their hash values remain constant throughout the dictionary's lifetime, ensuring consistent and correct lookups.\n",
    "\n",
    "Consistency: If keys were mutable, their hash values could change after creation, leading to unpredictable behavior and potential errors. This is because dictionaries rely on the hash values to find elements.\n",
    "\n",
    "Efficiency: Immutable keys allow for optimizations in dictionary implementations, leading to faster lookup, insertion, and deletion operations.\n",
    "\n",
    "* Examples of Immutable Keys\n",
    "\n",
    "-Strings: Strings are immutable in Python, making them ideal for dictionary key"
   ]
  },
  {
   "cell_type": "code",
   "execution_count": 5,
   "id": "16dda962-1dd3-4e03-aa2b-7e2455f99d30",
   "metadata": {},
   "outputs": [],
   "source": [
    "my_dict = {'name': 'Alice', 'age': 30}"
   ]
  },
  {
   "cell_type": "markdown",
   "id": "c552682e-5348-43c7-91c7-b70b8d824fa1",
   "metadata": {},
   "source": [
    "-Numbers (integers, floats): Numbers are also immutable, suitable for dictionary keys."
   ]
  },
  {
   "cell_type": "code",
   "execution_count": 6,
   "id": "99a92f17-5bef-4fb4-be1e-b9e01cb325a8",
   "metadata": {},
   "outputs": [],
   "source": [
    "student_scores = {12345: 95, 67890: 88}"
   ]
  },
  {
   "cell_type": "markdown",
   "id": "dbced0cc-9d6a-4492-92b6-daf160eeadcd",
   "metadata": {},
   "source": [
    "Tuples: As tuples are immutable, they can be used as dictionary keys."
   ]
  },
  {
   "cell_type": "code",
   "execution_count": 7,
   "id": "91307a4a-fde2-442f-9704-b38312052fc1",
   "metadata": {},
   "outputs": [],
   "source": [
    "book_prices = {('Author1', 'Book1'): 29.99, ('Author2', 'Book2'): 35.99}"
   ]
  },
  {
   "cell_type": "markdown",
   "id": "a2cbf203-6f46-47f7-ad99-04a96d8c5e7b",
   "metadata": {},
   "source": [
    ">Examples of Invalid Keys\n",
    "\n",
    "-Lists: Lists are mutable, so they cannot be used as dictionary keys."
   ]
  },
  {
   "cell_type": "code",
   "execution_count": 8,
   "id": "79267325-c46b-4db3-bfc6-aa2c7a8d9162",
   "metadata": {},
   "outputs": [
    {
     "ename": "TypeError",
     "evalue": "unhashable type: 'list'",
     "output_type": "error",
     "traceback": [
      "\u001b[0;31m---------------------------------------------------------------------------\u001b[0m",
      "\u001b[0;31mTypeError\u001b[0m                                 Traceback (most recent call last)",
      "Cell \u001b[0;32mIn[8], line 1\u001b[0m\n\u001b[0;32m----> 1\u001b[0m invalid_dict \u001b[38;5;241m=\u001b[39m {[\u001b[38;5;241m1\u001b[39m, \u001b[38;5;241m2\u001b[39m]: \u001b[38;5;124m'\u001b[39m\u001b[38;5;124mvalue\u001b[39m\u001b[38;5;124m'\u001b[39m}  \u001b[38;5;66;03m# This will raise a TypeError\u001b[39;00m\n",
      "\u001b[0;31mTypeError\u001b[0m: unhashable type: 'list'"
     ]
    }
   ],
   "source": [
    "invalid_dict = {[1, 2]: 'value'}  # This will raise a TypeError\n"
   ]
  },
  {
   "cell_type": "markdown",
   "id": "03b9b3bd-097c-48f5-aeed-a4c88d30f466",
   "metadata": {},
   "source": [
    "-Dictionaries: Dictionaries are mutable, so they cannot be used as dictionary keys."
   ]
  },
  {
   "cell_type": "code",
   "execution_count": 10,
   "id": "e49ff0ea-239c-48e9-925e-443acd6909e0",
   "metadata": {},
   "outputs": [
    {
     "ename": "TypeError",
     "evalue": "unhashable type: 'dict'",
     "output_type": "error",
     "traceback": [
      "\u001b[0;31m---------------------------------------------------------------------------\u001b[0m",
      "\u001b[0;31mTypeError\u001b[0m                                 Traceback (most recent call last)",
      "Cell \u001b[0;32mIn[10], line 1\u001b[0m\n\u001b[0;32m----> 1\u001b[0m invalid_dict \u001b[38;5;241m=\u001b[39m {{\u001b[38;5;124m'\u001b[39m\u001b[38;5;124ma\u001b[39m\u001b[38;5;124m'\u001b[39m: \u001b[38;5;241m1\u001b[39m}: \u001b[38;5;124m'\u001b[39m\u001b[38;5;124mvalue\u001b[39m\u001b[38;5;124m'\u001b[39m}  \u001b[38;5;66;03m# This will raise a TypeError\u001b[39;00m\n",
      "\u001b[0;31mTypeError\u001b[0m: unhashable type: 'dict'"
     ]
    }
   ],
   "source": [
    "invalid_dict = {{'a': 1}: 'value'}  # This will raise a TypeError\n"
   ]
  },
  {
   "cell_type": "markdown",
   "id": "301f1c6b-0c19-4c64-947b-cda91fa244d4",
   "metadata": {},
   "source": [
    "-Sets: Sets are mutable, so they cannot be used as dictionary keys."
   ]
  },
  {
   "cell_type": "code",
   "execution_count": 11,
   "id": "839aa3b2-d412-419f-a64a-7a10f13c5b17",
   "metadata": {},
   "outputs": [
    {
     "ename": "TypeError",
     "evalue": "unhashable type: 'set'",
     "output_type": "error",
     "traceback": [
      "\u001b[0;31m---------------------------------------------------------------------------\u001b[0m",
      "\u001b[0;31mTypeError\u001b[0m                                 Traceback (most recent call last)",
      "Cell \u001b[0;32mIn[11], line 1\u001b[0m\n\u001b[0;32m----> 1\u001b[0m invalid_dict \u001b[38;5;241m=\u001b[39m {{\u001b[38;5;241m1\u001b[39m, \u001b[38;5;241m2\u001b[39m}: \u001b[38;5;124m'\u001b[39m\u001b[38;5;124mvalue\u001b[39m\u001b[38;5;124m'\u001b[39m}  \u001b[38;5;66;03m# This will raise a TypeError\u001b[39;00m\n",
      "\u001b[0;31mTypeError\u001b[0m: unhashable type: 'set'"
     ]
    }
   ],
   "source": [
    "invalid_dict = {{1, 2}: 'value'}  # This will raise a TypeError\n"
   ]
  },
  {
   "cell_type": "markdown",
   "id": "1042ab20-174c-45ed-a40f-952498e4ddcf",
   "metadata": {},
   "source": [
    "###### By understanding the importance of immutable keys, you can effectively use dictionaries in your Python programs and avoid potential issues."
   ]
  }
 ],
 "metadata": {
  "kernelspec": {
   "display_name": "Python 3 (ipykernel)",
   "language": "python",
   "name": "python3"
  },
  "language_info": {
   "codemirror_mode": {
    "name": "ipython",
    "version": 3
   },
   "file_extension": ".py",
   "mimetype": "text/x-python",
   "name": "python",
   "nbconvert_exporter": "python",
   "pygments_lexer": "ipython3",
   "version": "3.10.8"
  }
 },
 "nbformat": 4,
 "nbformat_minor": 5
}
